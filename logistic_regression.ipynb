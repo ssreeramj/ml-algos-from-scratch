{
  "nbformat": 4,
  "nbformat_minor": 0,
  "metadata": {
    "colab": {
      "provenance": [],
      "authorship_tag": "ABX9TyMlAvM0JAAPPSvCGjls4K75",
      "include_colab_link": true
    },
    "kernelspec": {
      "name": "python3",
      "display_name": "Python 3"
    },
    "language_info": {
      "name": "python"
    }
  },
  "cells": [
    {
      "cell_type": "markdown",
      "metadata": {
        "id": "view-in-github",
        "colab_type": "text"
      },
      "source": [
        "<a href=\"https://colab.research.google.com/github/ssreeramj/ml-algos-from-scratch/blob/main/logistic_regression.ipynb\" target=\"_parent\"><img src=\"https://colab.research.google.com/assets/colab-badge.svg\" alt=\"Open In Colab\"/></a>"
      ]
    },
    {
      "cell_type": "code",
      "execution_count": 24,
      "metadata": {
        "id": "X7M6HqmBSOL9"
      },
      "outputs": [],
      "source": [
        "import numpy as np\n",
        "import matplotlib.pyplot as plt\n",
        "\n",
        "from sklearn.datasets import make_classification\n",
        "from sklearn.metrics import accuracy_score"
      ]
    },
    {
      "cell_type": "code",
      "source": [
        "X, y = make_classification(n_samples=1000)"
      ],
      "metadata": {
        "id": "RxesNCgkSWlQ"
      },
      "execution_count": 5,
      "outputs": []
    },
    {
      "cell_type": "code",
      "source": [
        "X.shape, y.shape"
      ],
      "metadata": {
        "colab": {
          "base_uri": "https://localhost:8080/"
        },
        "id": "q4fkiugsoEgj",
        "outputId": "8cf1fa2d-0585-4d43-cecd-a2701b922124"
      },
      "execution_count": 6,
      "outputs": [
        {
          "output_type": "execute_result",
          "data": {
            "text/plain": [
              "((1000, 20), (1000,))"
            ]
          },
          "metadata": {},
          "execution_count": 6
        }
      ]
    },
    {
      "cell_type": "code",
      "source": [
        "np.unique(y, return_counts=True)"
      ],
      "metadata": {
        "colab": {
          "base_uri": "https://localhost:8080/"
        },
        "id": "T2PBc77goHFw",
        "outputId": "d7da4c27-73a0-496d-c11b-e1d4715b6758"
      },
      "execution_count": 7,
      "outputs": [
        {
          "output_type": "execute_result",
          "data": {
            "text/plain": [
              "(array([0, 1]), array([502, 498]))"
            ]
          },
          "metadata": {},
          "execution_count": 7
        }
      ]
    },
    {
      "cell_type": "markdown",
      "source": [
        "## Logistic Regression\n",
        "\n",
        "- we calculate the coefficients by maximizing the likelihood.\n",
        "- likelihood = p(x) ^ y (1 - p(x)) ^ (1-y)\n",
        "- p(x) = 1 / (1 + e^-x)\n",
        "- x = B0 + B1X"
      ],
      "metadata": {
        "id": "Oj7EcmFPqCi7"
      }
    },
    {
      "cell_type": "code",
      "source": [
        "# prompt: write function to calculate sigmoid\n",
        "\n",
        "import numpy as np\n",
        "def sigmoid(x):\n",
        "  return 1 / (1 + np.exp(-x))\n"
      ],
      "metadata": {
        "id": "uyASzda8qBr4"
      },
      "execution_count": null,
      "outputs": []
    },
    {
      "cell_type": "code",
      "source": [
        "class LogisticRegression():\n",
        "    def __init__(self, n_iter=1000, alpha=0.001):\n",
        "        self.n_iter = n_iter\n",
        "        self.alpha = alpha\n",
        "        self.likelihoods = []\n",
        "\n",
        "    def _sigmoid(self, x):\n",
        "        return 1 / (1 + np.exp(-x))\n",
        "\n",
        "\n",
        "    def fit(self, X, y):\n",
        "        N, n_vars = X.shape\n",
        "        y = y.reshape(-1, 1)\n",
        "\n",
        "        self.coeffs = np.random.randn(n_vars, 1)\n",
        "\n",
        "        for _ in range(self.n_iter):\n",
        "            xx = np.dot(X, self.coeffs) # shape => (N, 1)\n",
        "            ln_likelihood = np.multiply(y, xx) - np.log(1 + np.exp(xx))\n",
        "\n",
        "            self.likelihoods.append(ln_likelihood)\n",
        "            gradients = np.dot(X.T, y - self._sigmoid(xx))\n",
        "            self.coeffs += gradients\n",
        "\n",
        "    def predict(self, X):\n",
        "        return self._sigmoid(np.dot(X, self.coeffs))\n"
      ],
      "metadata": {
        "id": "pAGc0C4hv6u-"
      },
      "execution_count": 30,
      "outputs": []
    },
    {
      "cell_type": "code",
      "source": [
        "lr = LogisticRegression(n_iter=1000)\n",
        "lr.fit(X, y)"
      ],
      "metadata": {
        "colab": {
          "base_uri": "https://localhost:8080/"
        },
        "id": "2m4Ta9m_x-FX",
        "outputId": "d8255f10-2ddb-482c-f4a1-49dfcc4fc63d"
      },
      "execution_count": 31,
      "outputs": [
        {
          "output_type": "stream",
          "name": "stderr",
          "text": [
            "<ipython-input-30-b9e6196ce76d>:19: RuntimeWarning: overflow encountered in exp\n",
            "  ln_likelihood = np.multiply(y, xx) - np.log(1 + np.exp(xx))\n",
            "<ipython-input-30-b9e6196ce76d>:8: RuntimeWarning: overflow encountered in exp\n",
            "  return 1 / (1 + np.exp(-x))\n"
          ]
        }
      ]
    },
    {
      "cell_type": "code",
      "source": [
        "lr.coeffs"
      ],
      "metadata": {
        "colab": {
          "base_uri": "https://localhost:8080/"
        },
        "id": "E-w3KKWszWhc",
        "outputId": "96542740-5f33-4046-aad3-39f10b0f7e67"
      },
      "execution_count": 32,
      "outputs": [
        {
          "output_type": "execute_result",
          "data": {
            "text/plain": [
              "array([[  35.58188402],\n",
              "       [  51.84122971],\n",
              "       [  -1.54520017],\n",
              "       [ -53.22577958],\n",
              "       [  23.40682896],\n",
              "       [   3.04353985],\n",
              "       [ -13.26292622],\n",
              "       [ -20.05988662],\n",
              "       [  -3.8047364 ],\n",
              "       [-111.60488645],\n",
              "       [  18.80186619],\n",
              "       [   7.26069352],\n",
              "       [   3.55391182],\n",
              "       [  26.05447839],\n",
              "       [  -1.25467128],\n",
              "       [ -12.92373904],\n",
              "       [  -8.27364677],\n",
              "       [ 680.87060887],\n",
              "       [-158.31486785],\n",
              "       [  27.75107079]])"
            ]
          },
          "metadata": {},
          "execution_count": 32
        }
      ]
    },
    {
      "cell_type": "code",
      "source": [
        "y_probs = lr.predict(X)\n",
        "y_preds = np.where(y_probs > 0.5, 1, 0)\n",
        "accuracy_score(y, y_preds)"
      ],
      "metadata": {
        "colab": {
          "base_uri": "https://localhost:8080/"
        },
        "id": "ShJ4dKiWzZI8",
        "outputId": "7c5b1cbc-91cf-4d71-fe2c-1758f13c8f32"
      },
      "execution_count": 33,
      "outputs": [
        {
          "output_type": "stream",
          "name": "stderr",
          "text": [
            "<ipython-input-30-b9e6196ce76d>:8: RuntimeWarning: overflow encountered in exp\n",
            "  return 1 / (1 + np.exp(-x))\n"
          ]
        },
        {
          "output_type": "execute_result",
          "data": {
            "text/plain": [
              "0.893"
            ]
          },
          "metadata": {},
          "execution_count": 33
        }
      ]
    },
    {
      "cell_type": "code",
      "source": [
        "lr.likelihoods[0].ravel().shape"
      ],
      "metadata": {
        "colab": {
          "base_uri": "https://localhost:8080/"
        },
        "id": "dztUmCrJz-bZ",
        "outputId": "a12a9661-dec7-4155-e4fd-9ca22dd9151d"
      },
      "execution_count": 40,
      "outputs": [
        {
          "output_type": "execute_result",
          "data": {
            "text/plain": [
              "(1000,)"
            ]
          },
          "metadata": {},
          "execution_count": 40
        }
      ]
    },
    {
      "cell_type": "code",
      "source": [
        "# plot errors\n",
        "plt.plot(lr.likelihoods[0].ravel())\n",
        "plt.show()"
      ],
      "metadata": {
        "colab": {
          "base_uri": "https://localhost:8080/",
          "height": 430
        },
        "id": "dvfLlPKyx_3V",
        "outputId": "1bc6770b-cc03-48c6-ed81-fa305af85c1c"
      },
      "execution_count": 41,
      "outputs": [
        {
          "output_type": "display_data",
          "data": {
            "text/plain": [
              "<Figure size 640x480 with 1 Axes>"
            ],
            "image/png": "[encoded data removed]"
          },
          "metadata": {}
        }
      ]
    },
    {
      "cell_type": "code",
      "source": [],
      "metadata": {
        "id": "tEBqmPCZzJ0a"
      },
      "execution_count": null,
      "outputs": []
    }
  ]
}