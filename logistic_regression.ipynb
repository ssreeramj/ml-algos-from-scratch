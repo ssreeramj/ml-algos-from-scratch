{
  "nbformat": 4,
  "nbformat_minor": 0,
  "metadata": {
    "colab": {
      "provenance": [],
      "authorship_tag": "ABX9TyPnGD17qZ3wXv2RqxI3wqij",
      "include_colab_link": true
    },
    "kernelspec": {
      "name": "python3",
      "display_name": "Python 3"
    },
    "language_info": {
      "name": "python"
    }
  },
  "cells": [
    {
      "cell_type": "markdown",
      "metadata": {
        "id": "view-in-github",
        "colab_type": "text"
      },
      "source": [
        "<a href=\"https://colab.research.google.com/github/ssreeramj/ml-algos-from-scratch/blob/main/logistic_regression.ipynb\" target=\"_parent\"><img src=\"https://colab.research.google.com/assets/colab-badge.svg\" alt=\"Open In Colab\"/></a>"
      ]
    },
    {
      "cell_type": "code",
      "execution_count": 78,
      "metadata": {
        "id": "X7M6HqmBSOL9"
      },
      "outputs": [],
      "source": [
        "import numpy as np\n",
        "import matplotlib.pyplot as plt\n",
        "\n",
        "from sklearn.datasets import make_classification\n",
        "from sklearn.metrics import accuracy_score\n",
        "\n",
        "from sklearn.linear_model import LogisticRegression"
      ]
    },
    {
      "cell_type": "code",
      "source": [
        "X, y = make_classification(n_samples=1000, random_state=3011)"
      ],
      "metadata": {
        "id": "RxesNCgkSWlQ"
      },
      "execution_count": 85,
      "outputs": []
    },
    {
      "cell_type": "code",
      "source": [
        "X.shape, y.shape"
      ],
      "metadata": {
        "colab": {
          "base_uri": "https://localhost:8080/"
        },
        "id": "q4fkiugsoEgj",
        "outputId": "03853bc7-af95-4f66-9fd6-1c0f4cf47a0d"
      },
      "execution_count": 86,
      "outputs": [
        {
          "output_type": "execute_result",
          "data": {
            "text/plain": [
              "((1000, 20), (1000,))"
            ]
          },
          "metadata": {},
          "execution_count": 86
        }
      ]
    },
    {
      "cell_type": "code",
      "source": [
        "np.unique(y, return_counts=True)"
      ],
      "metadata": {
        "colab": {
          "base_uri": "https://localhost:8080/"
        },
        "id": "T2PBc77goHFw",
        "outputId": "71d1b4ca-019d-4254-915e-d801118e92d0"
      },
      "execution_count": 87,
      "outputs": [
        {
          "output_type": "execute_result",
          "data": {
            "text/plain": [
              "(array([0, 1]), array([499, 501]))"
            ]
          },
          "metadata": {},
          "execution_count": 87
        }
      ]
    },
    {
      "cell_type": "code",
      "source": [
        "lr = LogisticRegression()\n",
        "lr.fit(X, y)\n",
        "actual_coeffs = lr.coef_.ravel()\n",
        "actual_coeffs"
      ],
      "metadata": {
        "colab": {
          "base_uri": "https://localhost:8080/"
        },
        "id": "YC4p0KGlz1Lf",
        "outputId": "21bf5b4b-1c61-42f5-cb1d-52576c6360a9"
      },
      "execution_count": 88,
      "outputs": [
        {
          "output_type": "execute_result",
          "data": {
            "text/plain": [
              "array([-0.13593246, -0.06011908, -0.06294293, -0.82165516, -0.03792018,\n",
              "       -0.04370882,  0.03601854, -0.03944616, -0.24047265, -0.09992641,\n",
              "        0.28208629, -0.1533509 , -0.18382631,  0.06181412, -0.17694004,\n",
              "        0.10614264,  0.11150321,  0.47752867,  2.78936366, -0.04953238])"
            ]
          },
          "metadata": {},
          "execution_count": 88
        }
      ]
    },
    {
      "cell_type": "markdown",
      "source": [
        "## Logistic Regression\n",
        "\n",
        "- we calculate the coefficients by maximizing the likelihood.\n",
        "- likelihood = p(x) ^ y (1 - p(x)) ^ (1-y)\n",
        "- p(x) = 1 / (1 + e^-x)\n",
        "- x = B0 + B1X"
      ],
      "metadata": {
        "id": "Oj7EcmFPqCi7"
      }
    },
    {
      "cell_type": "code",
      "source": [
        "# prompt: write function to calculate sigmoid\n",
        "\n",
        "def sigmoid(x):\n",
        "  return 1 / (1 + np.exp(-x))\n"
      ],
      "metadata": {
        "id": "uyASzda8qBr4"
      },
      "execution_count": 89,
      "outputs": []
    },
    {
      "cell_type": "code",
      "source": [
        "class CustomLogisticRegression():\n",
        "    def __init__(self, n_iter=1000, alpha=0.001):\n",
        "        self.n_iter = n_iter\n",
        "        self.alpha = alpha\n",
        "        self.log_loss = []\n",
        "\n",
        "    def _sigmoid(self, x):\n",
        "        return 1 / (1 + np.exp(-x))\n",
        "\n",
        "    def _log_loss(self, x, y):\n",
        "        xx = np.dot(X, self.coeffs) # shape => (N, 1)\n",
        "        sig_xx = self._sigmoid(xx)\n",
        "        ll = -(np.multiply(y, np.log(sig_xx)) + np.multiply(1-y, 1 - np.log(sig_xx)))\n",
        "        return ll\n",
        "\n",
        "\n",
        "    def fit(self, X, y):\n",
        "        N, n_vars = X.shape\n",
        "        y = y.reshape(-1, 1)\n",
        "\n",
        "        self.coeffs = np.random.randn(n_vars, 1)\n",
        "\n",
        "        for _ in range(self.n_iter):\n",
        "            xx = np.dot(X, self.coeffs) # shape => (N, 1)\n",
        "            log_loss = self._log_loss(X, y).mean()\n",
        "\n",
        "            self.log_loss.append(log_loss)\n",
        "            gradients = np.dot(X.T, y - self._sigmoid(xx)) / N\n",
        "            self.coeffs += gradients\n",
        "\n",
        "\n",
        "    def predict(self, X):\n",
        "        return self._sigmoid(np.dot(X, self.coeffs))\n"
      ],
      "metadata": {
        "id": "pAGc0C4hv6u-"
      },
      "execution_count": 90,
      "outputs": []
    },
    {
      "cell_type": "code",
      "source": [
        "lr = CustomLogisticRegression(n_iter=1000)\n",
        "lr.fit(X, y)"
      ],
      "metadata": {
        "id": "2m4Ta9m_x-FX"
      },
      "execution_count": 91,
      "outputs": []
    },
    {
      "cell_type": "code",
      "source": [
        "model_coeffs = lr.coeffs.ravel()\n",
        "\n",
        "print(f\"Actual Coefficients: {actual_coeffs}\")\n",
        "print(f\"Model Coefficients: {model_coeffs}\")"
      ],
      "metadata": {
        "colab": {
          "base_uri": "https://localhost:8080/"
        },
        "id": "E-w3KKWszWhc",
        "outputId": "f967ee56-665d-475e-b019-c5977ed781c7"
      },
      "execution_count": 92,
      "outputs": [
        {
          "output_type": "stream",
          "name": "stdout",
          "text": [
            "Actual Coefficients: [-0.13593246 -0.06011908 -0.06294293 -0.82165516 -0.03792018 -0.04370882\n",
            "  0.03601854 -0.03944616 -0.24047265 -0.09992641  0.28208629 -0.1533509\n",
            " -0.18382631  0.06181412 -0.17694004  0.10614264  0.11150321  0.47752867\n",
            "  2.78936366 -0.04953238]\n",
            "Model Coefficients: [-0.14666731 -0.06119872 -0.06885295 -0.50333228 -0.04014312 -0.03867918\n",
            "  0.03873334 -0.03945128 -0.253382   -0.11007066 -0.1031353  -0.15967334\n",
            " -0.19380331  0.07117665 -0.18652246  0.1094835   0.11874228  0.32601968\n",
            "  3.07307953 -0.0510219 ]\n"
          ]
        }
      ]
    },
    {
      "cell_type": "markdown",
      "source": [
        "Actual coefficients are close to our models coefficients!"
      ],
      "metadata": {
        "id": "vywRS7It0xHw"
      }
    },
    {
      "cell_type": "code",
      "source": [
        "# plot errors\n",
        "plt.plot(lr.log_loss)\n",
        "plt.show()"
      ],
      "metadata": {
        "colab": {
          "base_uri": "https://localhost:8080/",
          "height": 430
        },
        "id": "dvfLlPKyx_3V",
        "outputId": "cc8466d2-c3fc-4b08-f2f2-1e4692ecebef"
      },
      "execution_count": 93,
      "outputs": [
        {
          "output_type": "display_data",
          "data": {
            "text/plain": [
              "<Figure size 640x480 with 1 Axes>"
            ],
            "image/png": "[encoded data removed]"
          },
          "metadata": {}
        }
      ]
    },
    {
      "cell_type": "code",
      "source": [
        "y_probs = lr.predict(X)\n",
        "y_preds = np.where(y_probs > 0.5, 1, 0)\n",
        "accuracy_score(y, y_preds)"
      ],
      "metadata": {
        "colab": {
          "base_uri": "https://localhost:8080/"
        },
        "id": "ShJ4dKiWzZI8",
        "outputId": "c29010b5-7305-43be-b47c-58a0139c3349"
      },
      "execution_count": 94,
      "outputs": [
        {
          "output_type": "execute_result",
          "data": {
            "text/plain": [
              "0.919"
            ]
          },
          "metadata": {},
          "execution_count": 94
        }
      ]
    },
    {
      "cell_type": "code",
      "source": [],
      "metadata": {
        "id": "tEBqmPCZzJ0a"
      },
      "execution_count": null,
      "outputs": []
    }
  ]
}